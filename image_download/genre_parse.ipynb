{
 "cells": [
  {
   "cell_type": "code",
   "execution_count": 1,
   "metadata": {},
   "outputs": [],
   "source": [
    "import pandas as pd\n",
    "import numpy as np\n",
    "import json"
   ]
  },
  {
   "cell_type": "code",
   "execution_count": 2,
   "metadata": {},
   "outputs": [],
   "source": [
    "data_address = \"/team/scratch/album-ai/data/albums.jl\"\n",
    "\n",
    "lines = []\n",
    "\n",
    "with open(data_address, 'r') as f:\n",
    "    for line in f:\n",
    "        lines.append(json.loads(line))\n"
   ]
  },
  {
   "cell_type": "code",
   "execution_count": 3,
   "metadata": {},
   "outputs": [
    {
     "data": {
      "text/plain": [
       "(15075, 19)"
      ]
     },
     "execution_count": 3,
     "metadata": {},
     "output_type": "execute_result"
    }
   ],
   "source": [
    "dfItem = pd.DataFrame.from_records(lines)\n",
    "\n",
    "dfItem.shape\n",
    "\n",
    "# dfItem.genres\n",
    "# rock_string_genre[0:10]\n",
    "\n",
    "# dfGenre.loc[rock_string_genre, 'rock']"
   ]
  },
  {
   "cell_type": "code",
   "execution_count": 4,
   "metadata": {},
   "outputs": [],
   "source": [
    "genre_dict = {'pop':['pop'], \n",
    "              'rock':['rock'], \n",
    "              'country':['country', 'folk'],\n",
    "              'rap':['rap', 'hip hop'], \n",
    "              'metal':['metal'], \n",
    "              'indie':['indie'], \n",
    "              'electronic':['electronic'], \n",
    "              'classical':['classical']}\n",
    "\n",
    "genre_order = ['classical','country','metal','electronic','rap','folk','indie','pop','rock']\n"
   ]
  },
  {
   "cell_type": "code",
   "execution_count": 5,
   "metadata": {},
   "outputs": [
    {
     "name": "stdout",
     "output_type": "stream",
     "text": [
      "Classical: 72\n",
      "Country: 482\n",
      "Metal: 608\n",
      "Electronic: 681\n",
      "Rap: 195\n",
      "Hip Hop: 906\n",
      "Folk: 1118\n",
      "Indie: 2758\n",
      "Pop: 3824\n",
      "Rock: 5067\n"
     ]
    },
    {
     "data": {
      "text/plain": [
       "count     15075\n",
       "unique       10\n",
       "top       indie\n",
       "freq       2653\n",
       "Name: outcome, dtype: object"
      ]
     },
     "execution_count": 5,
     "metadata": {},
     "output_type": "execute_result"
    }
   ],
   "source": [
    "dfGenre = dfItem.loc[:,['genres','tags']]\n",
    "genre_list = dfItem.genres\n",
    "tag_list = dfItem.tags\n",
    "\n",
    "def genre_parse(genre_list, input_df):\n",
    "    genre_col = input_df.genres\n",
    "    genre_string = genre_col.apply(', '.join).str.lower()\n",
    "    \n",
    "    tag_col = input_df.tags\n",
    "    tag_string = tag_col.apply(', '.join).str.lower()\n",
    "    \n",
    "    output_df = input_df.loc[:,['genres','tags']]\n",
    "    \n",
    "    for genre_pos in range(len(genre_list)):\n",
    "        genre = genre_list[genre_pos]\n",
    "        \n",
    "        for word_pos in range(len(genre_dict[genre])):\n",
    "            pass\n",
    "    \n",
    "genre_string = genre_list.apply(', '.join).str.lower()\n",
    "tag_string = tag_list.apply(', '.join).str.lower()\n",
    "\n",
    "classical_string_genre = ['classical' in x for x in genre_string]\n",
    "classical_string_tag = ['classical' in x for x in tag_string]\n",
    "print('Classical: ' + str(sum(classical_string_genre)))\n",
    "dfGenre['classical'] = np.nan\n",
    "dfGenre.loc[classical_string_genre, 'classical'] = 'classical'\n",
    "dfGenre.loc[classical_string_tag, 'classical'] = 'classical'\n",
    "\n",
    "country_string_genre = ['country' in x for x in genre_string]\n",
    "country_string_tag = ['country' in x for x in tag_string]\n",
    "print('Country: ' + str(sum(country_string_genre)))\n",
    "dfGenre['country'] = np.nan\n",
    "dfGenre.loc[country_string_genre, 'country'] = 'country'\n",
    "dfGenre.loc[country_string_tag, 'country'] = 'country'\n",
    "\n",
    "metal_string_genre = ['metal' in x for x in genre_string]\n",
    "metal_string_tag = ['metal' in x for x in tag_string]\n",
    "print('Metal: ' + str(sum(metal_string_genre)))\n",
    "dfGenre['metal'] = np.nan\n",
    "dfGenre.loc[metal_string_genre, 'metal'] = 'metal'\n",
    "dfGenre.loc[metal_string_tag, 'metal'] = 'metal'\n",
    "\n",
    "electronic_string_genre = ['electronic' in x for x in genre_string]\n",
    "electronic_string_tag = ['electronic' in x for x in tag_string]\n",
    "print('Electronic: ' + str(sum(electronic_string_genre)))\n",
    "dfGenre['electronic'] = np.nan\n",
    "dfGenre.loc[electronic_string_genre, 'electronic'] = 'electronic'\n",
    "dfGenre.loc[electronic_string_tag, 'electronic'] = 'electronic'\n",
    "\n",
    "rap_string_genre = ['rap' in x for x in genre_string]\n",
    "rap_string_tag = ['rap' in x for x in tag_string]\n",
    "print('Rap: ' + str(sum(rap_string_genre)))\n",
    "dfGenre['rap'] = np.nan\n",
    "dfGenre.loc[rap_string_genre, 'rap'] = 'rap'\n",
    "dfGenre.loc[rap_string_tag, 'rap'] = 'rap'\n",
    "hiphop_string_genre = ['hip hop' in x for x in genre_string]\n",
    "hiphop_string_tag = ['hip hop' in x for x in tag_string]\n",
    "print('Hip Hop: ' + str(sum(hiphop_string_genre)))\n",
    "dfGenre.loc[hiphop_string_genre, 'rap'] = 'rap'\n",
    "dfGenre.loc[hiphop_string_tag, 'rap'] = 'rap'\n",
    "\n",
    "folk_string_genre = ['folk' in x for x in genre_string]\n",
    "folk_string_tag = ['folk' in x for x in tag_string]\n",
    "print('Folk: ' + str(sum(folk_string_genre)))\n",
    "dfGenre['folk'] = np.nan\n",
    "dfGenre.loc[folk_string_genre, 'folk'] = 'folk'\n",
    "dfGenre.loc[folk_string_tag, 'folk'] = 'folk'\n",
    "\n",
    "indie_string_genre = ['indie' in x for x in genre_string]\n",
    "indie_string_tag = ['indie' in x for x in tag_string]\n",
    "print('Indie: ' + str(sum(indie_string_genre)))\n",
    "dfGenre['indie'] = np.nan\n",
    "dfGenre.loc[indie_string_genre, 'indie'] = 'indie'\n",
    "dfGenre.loc[indie_string_tag, 'indie'] = 'indie'\n",
    "\n",
    "pop_string_genre = ['pop' in x for x in genre_string]\n",
    "pop_string_tag = ['pop' in x for x in tag_string]\n",
    "print('Pop: ' + str(sum(pop_string_genre)))\n",
    "dfGenre['pop'] = np.nan\n",
    "dfGenre.loc[pop_string_genre, 'pop'] = 'pop'\n",
    "dfGenre.loc[pop_string_tag, 'pop'] = 'pop'\n",
    "\n",
    "rock_string_genre = ['rock' in x for x in genre_string]\n",
    "rock_string_tag = ['rock' in x for x in tag_string]\n",
    "print('Rock: ' + str(sum(rock_string_genre)))\n",
    "dfGenre['rock'] = np.nan\n",
    "dfGenre.loc[rock_string_genre, 'rock'] = 'rock'\n",
    "dfGenre.loc[rock_string_tag, 'rock'] = 'rock'\n",
    "\n",
    "dfGenre['outcome'] = dfGenre.iloc[:, 2:].bfill(axis=1).iloc[:, 0].fillna('unknown')\n",
    "\n",
    "dfGenre.outcome.describe()"
   ]
  },
  {
   "cell_type": "code",
   "execution_count": 6,
   "metadata": {},
   "outputs": [
    {
     "data": {
      "text/plain": [
       "<matplotlib.axes._subplots.AxesSubplot at 0x7f63f494add8>"
      ]
     },
     "execution_count": 6,
     "metadata": {},
     "output_type": "execute_result"
    }
   ],
   "source": [
    "\n",
    "\n",
    "\n",
    "# st = dfGenre.ix[:, ].stack()\n",
    "\n",
    "# all_ids = pd.Series(st.index.get_level_values(1), \n",
    "#                     st.index.get_level_values(0),\n",
    "#                     name='all_ids')[st.values]\n",
    "\n",
    "# all_ids\n",
    "dfGenre.outcome.value_counts().plot(kind='bar')"
   ]
  },
  {
   "cell_type": "code",
   "execution_count": 7,
   "metadata": {},
   "outputs": [],
   "source": [
    "slist =[]\n",
    "for x in genre_list:\n",
    "    slist.extend(x)\n",
    "    \n",
    "# set(slist)"
   ]
  },
  {
   "cell_type": "code",
   "execution_count": 8,
   "metadata": {},
   "outputs": [
    {
     "name": "stdout",
     "output_type": "stream",
     "text": [
      "Pop: 4137\n",
      "Rock: 4500\n",
      "Country: 468\n",
      "Rap: 528\n",
      "Hip Hop: 907\n",
      "Folk: 1000\n",
      "Metal: 632\n",
      "Indie: 2115\n",
      "Electronic: 808\n",
      "Classical: 89\n"
     ]
    }
   ],
   "source": [
    "tag_list = dfItem.tags\n",
    "\n",
    "tag_string = tag_list.apply(', '.join).str.lower()\n",
    "\n",
    "tag_string[0]\n",
    "\n",
    "pop_string_tag = ['pop' in x for x in tag_string]\n",
    "\n",
    "print('Pop: ' + str(sum(pop_string_tag)))\n",
    "\n",
    "rock_string_tag = ['rock' in x for x in tag_string]\n",
    "\n",
    "print('Rock: ' + str(sum(rock_string_tag)))\n",
    "\n",
    "country_string_tag = ['country' in x for x in tag_string]\n",
    "\n",
    "print('Country: ' + str(sum(country_string_tag)))\n",
    "\n",
    "rap_string_tag = ['rap' in x for x in tag_string]\n",
    "\n",
    "print('Rap: ' + str(sum(rap_string_tag)))\n",
    "\n",
    "hiphop_string_tag = ['hip hop' in x for x in tag_string]\n",
    "\n",
    "print('Hip Hop: ' + str(sum(hiphop_string_tag)))\n",
    "\n",
    "folk_string_tag = ['folk' in x for x in tag_string]\n",
    "\n",
    "print('Folk: ' + str(sum(folk_string_tag)))\n",
    "\n",
    "metal_string_tag = ['metal' in x for x in tag_string]\n",
    "\n",
    "print('Metal: ' + str(sum(metal_string_tag)))\n",
    "\n",
    "indie_string_tag = ['indie' in x for x in tag_string]\n",
    "\n",
    "print('Indie: ' + str(sum(indie_string_tag)))\n",
    "\n",
    "electronic_string_tag = ['electronic' in x for x in tag_string]\n",
    "\n",
    "print('Electronic: ' + str(sum(electronic_string_tag)))\n",
    "\n",
    "classical_string_tag = ['classical' in x for x in tag_string]\n",
    "\n",
    "print('Classical: ' + str(sum(classical_string_tag)))"
   ]
  },
  {
   "cell_type": "code",
   "execution_count": 9,
   "metadata": {},
   "outputs": [],
   "source": [
    "output = dfItem.merge(dfGenre, how = 'inner', left_index=True, right_index=True)\n",
    "output = output[['album', 'artist', 'outcome', 'album_id']]\n",
    "output.columns = ['album', 'artist', 'genre', 'id']\n",
    "output.to_csv('/team/scratch/album-ai/data/' + 'genres.csv', index=False)"
   ]
  }
 ],
 "metadata": {
  "kernelspec": {
   "display_name": "Python 3",
   "language": "python",
   "name": "python3"
  },
  "language_info": {
   "codemirror_mode": {
    "name": "ipython",
    "version": 3
   },
   "file_extension": ".py",
   "mimetype": "text/x-python",
   "name": "python",
   "nbconvert_exporter": "python",
   "pygments_lexer": "ipython3",
   "version": "3.7.1"
  }
 },
 "nbformat": 4,
 "nbformat_minor": 2
}
